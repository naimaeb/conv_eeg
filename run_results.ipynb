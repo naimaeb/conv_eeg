{
 "cells": [
  {
   "cell_type": "code",
   "execution_count": null,
   "id": "ebcf3254",
   "metadata": {},
   "outputs": [],
   "source": [
    "%load_ext autoreload\n",
    "%autoreload 2\n"
   ]
  },
  {
   "cell_type": "code",
   "execution_count": null,
   "id": "a77f8ca9",
   "metadata": {},
   "outputs": [],
   "source": [
    "data_path = '/home/nelosegui/BIFOLD_work/domain_generalisation/conv_eeg/simpleconv_datasets/BNCI'\n",
    "model_path = '/home/nelosegui/BIFOLD_work/domain_generalisation/conv_eeg/results/BNCI'"
   ]
  },
  {
   "cell_type": "markdown",
   "id": "b206d683-1459-4603-83a2-6064ea90b6e8",
   "metadata": {},
   "source": [
    "# Cross-Subject on BNCI"
   ]
  },
  {
   "cell_type": "code",
   "execution_count": null,
   "id": "991d0b4e-f8dc-4890-92a8-4dbcf44e300d",
   "metadata": {
    "tags": []
   },
   "outputs": [],
   "source": [
    "from scripts.scripts import *\n",
    "\n",
    "\n",
    "p          = [109,4,70,8] \n",
    "dict_config = { \n",
    "'model':'EEGSimpleConv',\n",
    "'params':p,\n",
    "'dataset':'BNCI',\n",
    "'runs':5,\n",
    "'n_epochs':50,\n",
    "'EA':True,\n",
    "'mixup':True,\n",
    "'BN':True,\n",
    "'EOG':False,\n",
    "'Z':'Z0',\n",
    "'path':'/home/nelosegui/BIFOLD_work/domain_generalisation/conv_eeg/simpleconv_datasets',\n",
    "'lmso':False,\n",
    "'session':True,\n",
    "'reg_subject':False,\n",
    "'use_wandb':False,\n",
    "'evaluation':'cross',\n",
    "'comment':'baseline',\n",
    "'within':False,\n",
    "'mdl':False,\n",
    "'filter':0.5,\n",
    "'save_model':False,\n",
    "'load_model':False,\n",
    "'preload_reg':False,\n",
    "'online':False\n",
    "}\n",
    "    \n",
    "    \n",
    "X,Y = load_data(dict_config)\n",
    "best_params = dict_config['params']\n",
    "best_score = train_test(best_params,dict_config, X,Y)\n"
   ]
  },
  {
   "cell_type": "markdown",
   "id": "0b4db68a-02c9-4453-a6e3-875ba555ddb3",
   "metadata": {},
   "source": [
    "# Cross-Subject on BNCI with subject-wise reguralization "
   ]
  },
  {
   "cell_type": "code",
   "execution_count": null,
   "id": "2c50e2ee-6fc5-4695-afdb-2dc76754a710",
   "metadata": {},
   "outputs": [],
   "source": [
    "from scripts.scripts import *\n",
    "\n",
    "p          = [0.2,160,4,70,5]\n",
    "dict_config = { \n",
    "'model':'EEGSimpleConv',\n",
    "'params':p,\n",
    "'dataset':'BNCI',\n",
    "'runs':5,\n",
    "'n_epochs':50,\n",
    "'EA':True,\n",
    "'mixup':True,\n",
    "'BN':True,\n",
    "'EOG':False,\n",
    "'Z':'Z0',\n",
    "'path':'/users/local/simpleconv_datasets',\n",
    "'lmso':False,\n",
    "'session':True,\n",
    "'reg_subject':True,\n",
    "'use_wandb':False,\n",
    "'evaluation':'cross',\n",
    "'comment':'baseline',\n",
    "'within':False,\n",
    "'mdl':False,\n",
    "'filter':0.5,\n",
    "'save_model':True,\n",
    "'save_model_path':'/home/nelosegui/BIFOLD_work/domain_generalisation/conv_eeg/results/BNCI_2',\n",
    "'load_model':False,\n",
    "'preload_reg':False,\n",
    "'online':False\n",
    "}    \n",
    "    \n",
    "    \n",
    "X,Y = load_data(dict_config)\n",
    "best_params = dict_config['params']\n",
    "best_score = train_test(best_params,dict_config, X,Y)\n"
   ]
  },
  {
   "cell_type": "markdown",
   "id": "ff94553c-fe43-4f20-a810-f9c3b410b8f9",
   "metadata": {},
   "source": [
    "# Within-Subject on BNCI "
   ]
  },
  {
   "cell_type": "code",
   "execution_count": null,
   "id": "2767077b-1e57-4ce7-bf09-43e2781ff7a7",
   "metadata": {
    "tags": []
   },
   "outputs": [],
   "source": [
    "from scripts.scripts import *\n",
    "\n",
    "\n",
    "p          = [85,1,95,15]\n",
    "dict_config = { \n",
    "'model':'EEGSimpleConv',\n",
    "'params':p,\n",
    "'dataset':'BNCI',\n",
    "'runs':5,\n",
    "'n_epochs':50,\n",
    "'EA':True,\n",
    "'mixup':True,\n",
    "'BN':True,\n",
    "'EOG':False,\n",
    "'Z':'Z0',\n",
    "'path':'/users/local/simpleconv_datasets',\n",
    "'lmso':False,\n",
    "'session':True,\n",
    "'reg_subject':False,\n",
    "'use_wandb':False,\n",
    "'evaluation':'within',\n",
    "'comment':'baseline',\n",
    "'within':True,\n",
    "'mdl':False,\n",
    "'filter':0.5,\n",
    "'save_model':True,\n",
    "'save_model_path':'/nasbrain/y17eloua/models/BNCI_2',\n",
    "'load_model':False,\n",
    "'preload_reg':False,\n",
    "'online':False\n",
    "}  \n",
    "    \n",
    "    \n",
    "X,Y = load_data(dict_config)\n",
    "best_params = dict_config['params']\n",
    "best_score = train_test(best_params,dict_config, X,Y)\n"
   ]
  },
  {
   "cell_type": "code",
   "execution_count": null,
   "id": "e3ba8bee-9e4f-433a-8844-046e2e2192dc",
   "metadata": {
    "tags": []
   },
   "outputs": [],
   "source": [
    "from scripts.scripts import *\n",
    "\n",
    "\n",
    "p          = [85,1,95,15]\n",
    "dict_config = { \n",
    "'model':'EEGSimpleConv',\n",
    "'params':p,\n",
    "'dataset':'BNCI',\n",
    "'runs':5,\n",
    "'n_epochs':50,\n",
    "'EA':True,\n",
    "'mixup':True,\n",
    "'BN':True,\n",
    "'EOG':False,\n",
    "'Z':'Z0',\n",
    "'path':'/users/local/simpleconv_datasets',\n",
    "'lmso':False,\n",
    "'session':True,\n",
    "'reg_subject':False,\n",
    "'use_wandb':False,\n",
    "'evaluation':'within',\n",
    "'comment':'baseline',\n",
    "'within':True,\n",
    "'mdl':False,\n",
    "'filter':0.5,\n",
    "'save_model':False,\n",
    "\n",
    "'load_model':False,\n",
    "'preload_reg':False,\n",
    "'online':False\n",
    "}  \n",
    "    \n",
    "    \n",
    "X,Y = load_data(dict_config)\n",
    "best_params = dict_config['params']\n",
    "best_score = train_test(best_params,dict_config, X,Y)\n"
   ]
  },
  {
   "cell_type": "markdown",
   "id": "130a8823-cb25-4aaa-b314-4a32cc86eb49",
   "metadata": {},
   "source": [
    "# Cross-Subject with Fine-Tuning on BNCI\n",
    "\n",
    "To run the following cell run the second code cell (Cross-Subject on BNCI with subject-wise reguralization first) with the argument save_model = True in its dict_config. It will provide the required pretrained model for each subject and each run."
   ]
  },
  {
   "cell_type": "code",
   "execution_count": null,
   "id": "b22653f4-f3e7-4ef0-a5cc-abc21c8ab0bc",
   "metadata": {},
   "outputs": [],
   "source": [
    "from scripts.scripts import *\n",
    "\n",
    "\n",
    "p          = [160,4,70,5]\n",
    "dict_config = { \n",
    "'model':'EEGSimpleConv',\n",
    "'params':p,\n",
    "'dataset':'BNCI',\n",
    "'runs':5,\n",
    "'n_epochs':60,\n",
    "'EA':True,\n",
    "'mixup':True,\n",
    "'BN':True,\n",
    "'EOG':False,\n",
    "'Z':'Z0',\n",
    "'path':'/users/local/simpleconv_datasets',\n",
    "'lmso':False,\n",
    "'session':True,\n",
    "'reg_subject':False,\n",
    "'use_wandb':False,\n",
    "'evaluation':'cross_finetune',\n",
    "'comment':'baseline',\n",
    "'within':True,\n",
    "'mdl':False,\n",
    "'filter':0.5,\n",
    "'save_model':True,\n",
    "'save_model_path':'/nasbrain/y17eloua/models/BNCI_2',   \n",
    "'load_model':True,\n",
    "'load_model_path':'/nasbrain/y17eloua/models/BNCI_2',\n",
    "'preload_reg':True,\n",
    "'online':False\n",
    "}\n",
    "\n",
    "    \n",
    "    \n",
    "    \n",
    "X,Y = load_data(dict_config)\n",
    "best_params = dict_config['params']\n",
    "best_score = train_test(best_params,dict_config, X,Y)\n"
   ]
  },
  {
   "cell_type": "code",
   "execution_count": null,
   "id": "ca7209f0",
   "metadata": {},
   "outputs": [],
   "source": []
  }
 ],
 "metadata": {
  "kernelspec": {
   "display_name": "Python 3 (ipykernel)",
   "language": "python",
   "name": "python3"
  },
  "language_info": {
   "codemirror_mode": {
    "name": "ipython",
    "version": 3
   },
   "file_extension": ".py",
   "mimetype": "text/x-python",
   "name": "python",
   "nbconvert_exporter": "python",
   "pygments_lexer": "ipython3",
   "version": "3.10.15"
  }
 },
 "nbformat": 4,
 "nbformat_minor": 5
}
