{
 "cells": [
  {
   "cell_type": "code",
   "execution_count": 6,
   "id": "ebcf3254",
   "metadata": {},
   "outputs": [
    {
     "name": "stdout",
     "output_type": "stream",
     "text": [
      "The autoreload extension is already loaded. To reload it, use:\n",
      "  %reload_ext autoreload\n"
     ]
    }
   ],
   "source": [
    "%load_ext autoreload\n",
    "%autoreload 2\n"
   ]
  },
  {
   "cell_type": "code",
   "execution_count": 7,
   "id": "a77f8ca9",
   "metadata": {},
   "outputs": [],
   "source": [
    "data_path = '/home/nelosegui/BIFOLD_work/domain_generalisation/conv_eeg/simpleconv_datasets'\n",
    "model_path = '/home/nelosegui/BIFOLD_work/domain_generalisation/conv_eeg/results'"
   ]
  },
  {
   "cell_type": "markdown",
   "id": "8e431d61",
   "metadata": {},
   "source": [
    "## Data explanation for BNCI\n",
    "\n",
    "Batch data is organized in a list of (torch.tensor(data), torch.tensor(class_label), torch.tensor(subject_label))\n",
    "- torch.tensor(data) = (n_trails per session, n_channels, n_timepoints (Hz * seconds))\n",
    "- torch.tensor (class_label): (n_traisls)\n",
    "    - all subjects have the same order of class labels except:\n",
    "    - subj 8,5,0 (session 0) and 3 (session 1) are different from the rest but the same among eachother\n",
    "    - subj 3 session 0 is different from all the rest\n",
    "\n",
    "- torch.tensor(subject): (n_trials) consecutive batches are from the same subject (i.e. 0 and 1, 2 and 3, etc.). Each batch per subject corresponds to a different session"
   ]
  },
  {
   "cell_type": "markdown",
   "id": "b206d683-1459-4603-83a2-6064ea90b6e8",
   "metadata": {},
   "source": [
    "# Cross-Subject on BNCI"
   ]
  },
  {
   "cell_type": "code",
   "execution_count": 9,
   "id": "991d0b4e-f8dc-4890-92a8-4dbcf44e300d",
   "metadata": {
    "tags": []
   },
   "outputs": [
    {
     "name": "stdout",
     "output_type": "stream",
     "text": [
      "Sampling Freq: 250\n"
     ]
    },
    {
     "data": {
      "text/html": [
       "Finishing last run (ID:pv2msu26) before initializing another..."
      ],
      "text/plain": [
       "<IPython.core.display.HTML object>"
      ]
     },
     "metadata": {},
     "output_type": "display_data"
    },
    {
     "data": {
      "text/html": [
       " View run <strong style=\"color:#cdcd00\">chocolate-snow-10</strong> at: <a href='https://wandb.ai/naima-elosegui-technische-universitat-berlin/simpleconv_c/runs/pv2msu26' target=\"_blank\">https://wandb.ai/naima-elosegui-technische-universitat-berlin/simpleconv_c/runs/pv2msu26</a><br/> View project at: <a href='https://wandb.ai/naima-elosegui-technische-universitat-berlin/simpleconv_c' target=\"_blank\">https://wandb.ai/naima-elosegui-technische-universitat-berlin/simpleconv_c</a><br/>Synced 5 W&B file(s), 0 media file(s), 0 artifact file(s) and 0 other file(s)"
      ],
      "text/plain": [
       "<IPython.core.display.HTML object>"
      ]
     },
     "metadata": {},
     "output_type": "display_data"
    },
    {
     "data": {
      "text/html": [
       "Find logs at: <code>./wandb/run-20241202_103441-pv2msu26/logs</code>"
      ],
      "text/plain": [
       "<IPython.core.display.HTML object>"
      ]
     },
     "metadata": {},
     "output_type": "display_data"
    },
    {
     "data": {
      "text/html": [
       "Successfully finished last run (ID:pv2msu26). Initializing new run:<br/>"
      ],
      "text/plain": [
       "<IPython.core.display.HTML object>"
      ]
     },
     "metadata": {},
     "output_type": "display_data"
    },
    {
     "data": {
      "text/html": [
       "Tracking run with wandb version 0.18.5"
      ],
      "text/plain": [
       "<IPython.core.display.HTML object>"
      ]
     },
     "metadata": {},
     "output_type": "display_data"
    },
    {
     "data": {
      "text/html": [
       "Run data is saved locally in <code>/home/nelosegui/BIFOLD_work/domain_generalisation/conv_eeg/wandb/run-20241202_104746-vqyovjkx</code>"
      ],
      "text/plain": [
       "<IPython.core.display.HTML object>"
      ]
     },
     "metadata": {},
     "output_type": "display_data"
    },
    {
     "data": {
      "text/html": [
       "Syncing run <strong><a href='https://wandb.ai/naima-elosegui-technische-universitat-berlin/simpleconv_c/runs/vqyovjkx' target=\"_blank\">playful-fire-11</a></strong> to <a href='https://wandb.ai/naima-elosegui-technische-universitat-berlin/simpleconv_c' target=\"_blank\">Weights & Biases</a> (<a href='https://wandb.me/run' target=\"_blank\">docs</a>)<br/>"
      ],
      "text/plain": [
       "<IPython.core.display.HTML object>"
      ]
     },
     "metadata": {},
     "output_type": "display_data"
    },
    {
     "data": {
      "text/html": [
       " View project at <a href='https://wandb.ai/naima-elosegui-technische-universitat-berlin/simpleconv_c' target=\"_blank\">https://wandb.ai/naima-elosegui-technische-universitat-berlin/simpleconv_c</a>"
      ],
      "text/plain": [
       "<IPython.core.display.HTML object>"
      ]
     },
     "metadata": {},
     "output_type": "display_data"
    },
    {
     "data": {
      "text/html": [
       " View run at <a href='https://wandb.ai/naima-elosegui-technische-universitat-berlin/simpleconv_c/runs/vqyovjkx' target=\"_blank\">https://wandb.ai/naima-elosegui-technische-universitat-berlin/simpleconv_c/runs/vqyovjkx</a>"
      ],
      "text/plain": [
       "<IPython.core.display.HTML object>"
      ]
     },
     "metadata": {},
     "output_type": "display_data"
    },
    {
     "name": "stdout",
     "output_type": "stream",
     "text": [
      "[109, 4, 70, 8, 22, 4, 250] 2462246 params\n",
      "Split: 0\n"
     ]
    },
    {
     "name": "stderr",
     "output_type": "stream",
     "text": [
      "/home/nelosegui/.local/lib/python3.10/site-packages/torch/utils/data/dataloader.py:557: UserWarning: This DataLoader will create 8 worker processes in total. Our suggested max number of worker in current system is 4, which is smaller than what this DataLoader is going to create. Please be aware that excessive worker creation might get DataLoader running slow or even freeze, lower the worker number to avoid potential slowness/freeze if necessary.\n",
      "  warnings.warn(_create_warning_msg(\n"
     ]
    },
    {
     "name": "stdout",
     "output_type": "stream",
     "text": [
      " 49 test: 0.764 \n",
      " 49 test: 0.781 \n",
      " 49 test: 0.764 \n",
      " 49 test: 0.757 \n",
      " 49 test: 0.778  average: 0.769\n",
      "Split: 1\n",
      " 49 test: 0.578 \n",
      " 49 test: 0.545 \n",
      " 49 test: 0.582 \n",
      " 49 test: 0.576 \n",
      " 49 test: 0.597  average: 0.576\n",
      "Split: 2\n",
      " 49 test: 0.852 \n",
      " 49 test: 0.826 \n",
      " 49 test: 0.823 \n",
      " 49 test: 0.832 \n",
      " 49 test: 0.807  average: 0.828\n",
      "Split: 3\n",
      " 49 test: 0.646 \n",
      " 49 test: 0.623 \n",
      " 49 test: 0.693 \n",
      " 49 test: 0.681 \n",
      " 49 test: 0.670  average: 0.663\n",
      "Split: 4\n",
      " 49 test: 0.715 \n",
      " 49 test: 0.724 \n",
      " 49 test: 0.734 \n",
      " 49 test: 0.689 \n",
      " 49 test: 0.734  average: 0.719\n",
      "Split: 5\n",
      " 49 test: 0.649 \n",
      " 49 test: 0.639 \n",
      " 49 test: 0.620 \n",
      " 49 test: 0.641 \n",
      " 49 test: 0.613  average: 0.632\n",
      "Split: 6\n",
      " 49 test: 0.741 \n",
      " 49 test: 0.753 \n",
      " 49 test: 0.743 \n",
      " 49 test: 0.750 \n",
      " 49 test: 0.745  average: 0.747\n",
      "Split: 7\n",
      " 49 test: 0.769 \n",
      " 49 test: 0.773 \n",
      " 49 test: 0.783 \n",
      " 49 test: 0.771 \n",
      " 49 test: 0.778  average: 0.775\n",
      "Split: 8\n",
      " 49 test: 0.745 \n",
      " 49 test: 0.720 \n",
      " 49 test: 0.750 \n",
      " 49 test: 0.729 \n",
      " 49 test: 0.720  average: 0.733\n",
      "0.716\n"
     ]
    },
    {
     "data": {
      "text/html": [
       "<style>\n",
       "    table.wandb td:nth-child(1) { padding: 0 10px; text-align: left ; width: auto;} td:nth-child(2) {text-align: left ; width: 100%}\n",
       "    .wandb-row { display: flex; flex-direction: row; flex-wrap: wrap; justify-content: flex-start; width: 100% }\n",
       "    .wandb-col { display: flex; flex-direction: column; flex-basis: 100%; flex: 1; padding: 10px; }\n",
       "    </style>\n",
       "<div class=\"wandb-row\"><div class=\"wandb-col\"><h3>Run history:</h3><br/><table class=\"wandb\"><tr><td>number_params</td><td>▁</td></tr><tr><td>std</td><td>▁</td></tr><tr><td>std_sub</td><td>▁</td></tr><tr><td>test_acc</td><td>▁</td></tr></table><br/></div><div class=\"wandb-col\"><h3>Run summary:</h3><br/><table class=\"wandb\"><tr><td>number_params</td><td>2462246</td></tr><tr><td>std</td><td>0.00392</td></tr><tr><td>std_sub</td><td>0.07422</td></tr><tr><td>test_acc</td><td>0.71566</td></tr></table><br/></div></div>"
      ],
      "text/plain": [
       "<IPython.core.display.HTML object>"
      ]
     },
     "metadata": {},
     "output_type": "display_data"
    },
    {
     "data": {
      "text/html": [
       " View run <strong style=\"color:#cdcd00\">playful-fire-11</strong> at: <a href='https://wandb.ai/naima-elosegui-technische-universitat-berlin/simpleconv_c/runs/vqyovjkx' target=\"_blank\">https://wandb.ai/naima-elosegui-technische-universitat-berlin/simpleconv_c/runs/vqyovjkx</a><br/> View project at: <a href='https://wandb.ai/naima-elosegui-technische-universitat-berlin/simpleconv_c' target=\"_blank\">https://wandb.ai/naima-elosegui-technische-universitat-berlin/simpleconv_c</a><br/>Synced 5 W&B file(s), 0 media file(s), 0 artifact file(s) and 0 other file(s)"
      ],
      "text/plain": [
       "<IPython.core.display.HTML object>"
      ]
     },
     "metadata": {},
     "output_type": "display_data"
    },
    {
     "data": {
      "text/html": [
       "Find logs at: <code>./wandb/run-20241202_104746-vqyovjkx/logs</code>"
      ],
      "text/plain": [
       "<IPython.core.display.HTML object>"
      ]
     },
     "metadata": {},
     "output_type": "display_data"
    }
   ],
   "source": [
    "from scripts.scripts import *\n",
    "\n",
    "\n",
    "p          = [109,4,70,8] \n",
    "dict_config = { \n",
    "'model':'EEGSimpleConv',\n",
    "'params':p,\n",
    "'dataset':'BNCI',\n",
    "'runs':5,\n",
    "'n_epochs':50,\n",
    "'EA':True,\n",
    "'mixup':True,\n",
    "'BN':True,\n",
    "'EOG':False,\n",
    "'Z':'Z0',\n",
    "'path': data_path,\n",
    "'lmso':False,\n",
    "'session':True,\n",
    "'reg_subject':False,\n",
    "'use_wandb':True,\n",
    "'evaluation':'cross',\n",
    "'comment':'baseline',\n",
    "'within':False,\n",
    "'mdl':False,\n",
    "'filter':0.5,\n",
    "'save_model':True,\n",
    "'save_model_path': model_path + '/BNCI_cross_subj',\n",
    "'load_model':False,\n",
    "'preload_reg':False,\n",
    "'online':False,\n",
    "'wass_reg': False\n",
    "}\n",
    "    \n",
    "    \n",
    "X,Y = load_data(dict_config)\n",
    "best_params = dict_config['params']\n",
    "best_score = train_test(best_params,dict_config, X,Y)\n"
   ]
  },
  {
   "cell_type": "markdown",
   "id": "0b4db68a-02c9-4453-a6e3-875ba555ddb3",
   "metadata": {},
   "source": [
    "# Cross-Subject on BNCI with subject-wise reguralization "
   ]
  },
  {
   "cell_type": "code",
   "execution_count": 11,
   "id": "2c50e2ee-6fc5-4695-afdb-2dc76754a710",
   "metadata": {},
   "outputs": [
    {
     "name": "stdout",
     "output_type": "stream",
     "text": [
      "Sampling Freq: 250\n"
     ]
    },
    {
     "data": {
      "text/html": [
       "Finishing last run (ID:fi3rqln7) before initializing another..."
      ],
      "text/plain": [
       "<IPython.core.display.HTML object>"
      ]
     },
     "metadata": {},
     "output_type": "display_data"
    },
    {
     "data": {
      "text/html": [
       " View run <strong style=\"color:#cdcd00\">zesty-planet-12</strong> at: <a href='https://wandb.ai/naima-elosegui-technische-universitat-berlin/simpleconv_c/runs/fi3rqln7' target=\"_blank\">https://wandb.ai/naima-elosegui-technische-universitat-berlin/simpleconv_c/runs/fi3rqln7</a><br/> View project at: <a href='https://wandb.ai/naima-elosegui-technische-universitat-berlin/simpleconv_c' target=\"_blank\">https://wandb.ai/naima-elosegui-technische-universitat-berlin/simpleconv_c</a><br/>Synced 5 W&B file(s), 0 media file(s), 0 artifact file(s) and 0 other file(s)"
      ],
      "text/plain": [
       "<IPython.core.display.HTML object>"
      ]
     },
     "metadata": {},
     "output_type": "display_data"
    },
    {
     "data": {
      "text/html": [
       "Find logs at: <code>./wandb/run-20241202_122744-fi3rqln7/logs</code>"
      ],
      "text/plain": [
       "<IPython.core.display.HTML object>"
      ]
     },
     "metadata": {},
     "output_type": "display_data"
    },
    {
     "data": {
      "text/html": [
       "Successfully finished last run (ID:fi3rqln7). Initializing new run:<br/>"
      ],
      "text/plain": [
       "<IPython.core.display.HTML object>"
      ]
     },
     "metadata": {},
     "output_type": "display_data"
    },
    {
     "data": {
      "text/html": [
       "Tracking run with wandb version 0.18.5"
      ],
      "text/plain": [
       "<IPython.core.display.HTML object>"
      ]
     },
     "metadata": {},
     "output_type": "display_data"
    },
    {
     "data": {
      "text/html": [
       "Run data is saved locally in <code>/home/nelosegui/BIFOLD_work/domain_generalisation/conv_eeg/wandb/run-20241202_124520-bt1e1wnp</code>"
      ],
      "text/plain": [
       "<IPython.core.display.HTML object>"
      ]
     },
     "metadata": {},
     "output_type": "display_data"
    },
    {
     "data": {
      "text/html": [
       "Syncing run <strong><a href='https://wandb.ai/naima-elosegui-technische-universitat-berlin/simpleconv_c/runs/bt1e1wnp' target=\"_blank\">lunar-cherry-13</a></strong> to <a href='https://wandb.ai/naima-elosegui-technische-universitat-berlin/simpleconv_c' target=\"_blank\">Weights & Biases</a> (<a href='https://wandb.me/run' target=\"_blank\">docs</a>)<br/>"
      ],
      "text/plain": [
       "<IPython.core.display.HTML object>"
      ]
     },
     "metadata": {},
     "output_type": "display_data"
    },
    {
     "data": {
      "text/html": [
       " View project at <a href='https://wandb.ai/naima-elosegui-technische-universitat-berlin/simpleconv_c' target=\"_blank\">https://wandb.ai/naima-elosegui-technische-universitat-berlin/simpleconv_c</a>"
      ],
      "text/plain": [
       "<IPython.core.display.HTML object>"
      ]
     },
     "metadata": {},
     "output_type": "display_data"
    },
    {
     "data": {
      "text/html": [
       " View run at <a href='https://wandb.ai/naima-elosegui-technische-universitat-berlin/simpleconv_c/runs/bt1e1wnp' target=\"_blank\">https://wandb.ai/naima-elosegui-technische-universitat-berlin/simpleconv_c/runs/bt1e1wnp</a>"
      ],
      "text/plain": [
       "<IPython.core.display.HTML object>"
      ]
     },
     "metadata": {},
     "output_type": "display_data"
    },
    {
     "name": "stdout",
     "output_type": "stream",
     "text": [
      "[0.2, 160, 4, 70, 5, 22, 4, 250, 9] 3326677 params\n",
      "Split: 0\n"
     ]
    },
    {
     "name": "stderr",
     "output_type": "stream",
     "text": [
      "/home/nelosegui/.local/lib/python3.10/site-packages/torch/utils/data/dataloader.py:557: UserWarning: This DataLoader will create 8 worker processes in total. Our suggested max number of worker in current system is 4, which is smaller than what this DataLoader is going to create. Please be aware that excessive worker creation might get DataLoader running slow or even freeze, lower the worker number to avoid potential slowness/freeze if necessary.\n",
      "  warnings.warn(_create_warning_msg(\n"
     ]
    },
    {
     "name": "stdout",
     "output_type": "stream",
     "text": [
      " 49 test: 0.802 \n",
      " 49 test: 0.776 \n",
      " 49 test: 0.762 \n",
      " 49 test: 0.816 \n",
      " 49 test: 0.799  average: 0.791\n",
      "Split: 1\n",
      " 49 test: 0.578 \n",
      " 49 test: 0.578 \n",
      " 49 test: 0.590 \n",
      " 49 test: 0.549 \n",
      " 49 test: 0.545  average: 0.568\n",
      "Split: 2\n",
      " 49 test: 0.809 \n",
      " 49 test: 0.839 \n",
      " 49 test: 0.830 \n",
      " 49 test: 0.828 \n",
      " 49 test: 0.844  average: 0.830\n",
      "Split: 3\n",
      " 49 test: 0.698 \n",
      " 49 test: 0.663 \n",
      " 49 test: 0.623 \n",
      " 49 test: 0.677 \n",
      " 49 test: 0.672  average: 0.667\n",
      "Split: 4\n",
      " 49 test: 0.729 \n",
      " 49 test: 0.701 \n",
      " 49 test: 0.701 \n",
      " 49 test: 0.724 \n",
      " 49 test: 0.712  average: 0.714\n",
      "Split: 5\n",
      " 49 test: 0.660 \n",
      " 49 test: 0.627 \n",
      " 49 test: 0.642 \n",
      " 49 test: 0.635 \n",
      " 49 test: 0.670  average: 0.647\n",
      "Split: 6\n",
      " 49 test: 0.734 \n",
      " 49 test: 0.771 \n",
      " 49 test: 0.762 \n",
      " 49 test: 0.734 \n",
      " 49 test: 0.778  average: 0.756\n",
      "Split: 7\n",
      " 49 test: 0.785 \n",
      " 49 test: 0.745 \n",
      " 49 test: 0.771 \n",
      " 49 test: 0.778 \n",
      " 49 test: 0.766  average: 0.769\n",
      "Split: 8\n",
      " 49 test: 0.722 \n",
      " 49 test: 0.750 \n",
      " 49 test: 0.726 \n",
      " 49 test: 0.741 \n",
      " 49 test: 0.722  average: 0.732\n",
      "0.719\n"
     ]
    },
    {
     "data": {
      "text/html": [
       "<style>\n",
       "    table.wandb td:nth-child(1) { padding: 0 10px; text-align: left ; width: auto;} td:nth-child(2) {text-align: left ; width: 100%}\n",
       "    .wandb-row { display: flex; flex-direction: row; flex-wrap: wrap; justify-content: flex-start; width: 100% }\n",
       "    .wandb-col { display: flex; flex-direction: column; flex-basis: 100%; flex: 1; padding: 10px; }\n",
       "    </style>\n",
       "<div class=\"wandb-row\"><div class=\"wandb-col\"><h3>Run history:</h3><br/><table class=\"wandb\"><tr><td>number_params</td><td>▁</td></tr><tr><td>std</td><td>▁</td></tr><tr><td>std_sub</td><td>▁</td></tr><tr><td>test_acc</td><td>▁</td></tr></table><br/></div><div class=\"wandb-col\"><h3>Run summary:</h3><br/><table class=\"wandb\"><tr><td>number_params</td><td>3326677</td></tr><tr><td>std</td><td>0.00444</td></tr><tr><td>std_sub</td><td>0.07619</td></tr><tr><td>test_acc</td><td>0.71921</td></tr></table><br/></div></div>"
      ],
      "text/plain": [
       "<IPython.core.display.HTML object>"
      ]
     },
     "metadata": {},
     "output_type": "display_data"
    },
    {
     "data": {
      "text/html": [
       " View run <strong style=\"color:#cdcd00\">lunar-cherry-13</strong> at: <a href='https://wandb.ai/naima-elosegui-technische-universitat-berlin/simpleconv_c/runs/bt1e1wnp' target=\"_blank\">https://wandb.ai/naima-elosegui-technische-universitat-berlin/simpleconv_c/runs/bt1e1wnp</a><br/> View project at: <a href='https://wandb.ai/naima-elosegui-technische-universitat-berlin/simpleconv_c' target=\"_blank\">https://wandb.ai/naima-elosegui-technische-universitat-berlin/simpleconv_c</a><br/>Synced 5 W&B file(s), 0 media file(s), 0 artifact file(s) and 0 other file(s)"
      ],
      "text/plain": [
       "<IPython.core.display.HTML object>"
      ]
     },
     "metadata": {},
     "output_type": "display_data"
    },
    {
     "data": {
      "text/html": [
       "Find logs at: <code>./wandb/run-20241202_124520-bt1e1wnp/logs</code>"
      ],
      "text/plain": [
       "<IPython.core.display.HTML object>"
      ]
     },
     "metadata": {},
     "output_type": "display_data"
    }
   ],
   "source": [
    "from scripts.scripts import *\n",
    "\n",
    "p          = [0.2,160,4,70,5]\n",
    "dict_config = { \n",
    "'model':'EEGSimpleConv',\n",
    "'params':p,\n",
    "'dataset':'BNCI',\n",
    "'runs':5,\n",
    "'n_epochs':50,\n",
    "'EA':True,\n",
    "'mixup':True,\n",
    "'BN':True,\n",
    "'EOG':False,\n",
    "'Z':'Z0',\n",
    "'path':data_path,\n",
    "'lmso':False,\n",
    "'session':True,\n",
    "'reg_subject':True,\n",
    "'use_wandb':True,\n",
    "'evaluation':'cross',\n",
    "'comment':'baseline',\n",
    "'within':False,\n",
    "'mdl':False,\n",
    "'filter':0.5,\n",
    "'save_model':True,\n",
    "'save_model_path':model_path + '/BNCI_subj_reg',\n",
    "'load_model':False,\n",
    "'preload_reg':False,\n",
    "'online':False\n",
    "}    \n",
    "    \n",
    "    \n",
    "X,Y = load_data(dict_config)\n",
    "best_params = dict_config['params']\n",
    "best_score = train_test(best_params,dict_config, X,Y)\n"
   ]
  },
  {
   "cell_type": "markdown",
   "id": "002fae8f",
   "metadata": {},
   "source": [
    "Test for loading data"
   ]
  },
  {
   "cell_type": "markdown",
   "id": "ff94553c-fe43-4f20-a810-f9c3b410b8f9",
   "metadata": {},
   "source": [
    "# Within-Subject on BNCI "
   ]
  },
  {
   "cell_type": "code",
   "execution_count": null,
   "id": "2767077b-1e57-4ce7-bf09-43e2781ff7a7",
   "metadata": {
    "tags": []
   },
   "outputs": [],
   "source": [
    "from scripts.scripts import *\n",
    "\n",
    "\n",
    "p          = [85,1,95,15]\n",
    "dict_config = { \n",
    "'model':'EEGSimpleConv',\n",
    "'params':p,\n",
    "'dataset':'BNCI',\n",
    "'runs':5,\n",
    "'n_epochs':50,\n",
    "'EA':True,\n",
    "'mixup':True,\n",
    "'BN':True,\n",
    "'EOG':False,\n",
    "'Z':'Z0',\n",
    "'path':data_path,\n",
    "'lmso':False,\n",
    "'session':True,\n",
    "'reg_subject':False,\n",
    "'use_wandb':False,\n",
    "'evaluation':'within',\n",
    "'comment':'baseline',\n",
    "'within':True,\n",
    "'mdl':False,\n",
    "'filter':0.5,\n",
    "'save_model':True,\n",
    "'save_model_path':model_path + '/BNCI_within',\n",
    "'load_model':False,\n",
    "'preload_reg':False,\n",
    "'online':False\n",
    "}  \n",
    "    \n",
    "    \n",
    "X,Y = load_data(dict_config)\n",
    "best_params = dict_config['params']\n",
    "best_score = train_test(best_params,dict_config, X,Y)\n"
   ]
  },
  {
   "cell_type": "code",
   "execution_count": null,
   "id": "e3ba8bee-9e4f-433a-8844-046e2e2192dc",
   "metadata": {
    "tags": []
   },
   "outputs": [],
   "source": [
    "from scripts.scripts import *\n",
    "\n",
    "\n",
    "p          = [85,1,95,15]\n",
    "dict_config = { \n",
    "'model':'EEGSimpleConv',\n",
    "'params':p,\n",
    "'dataset':'BNCI',\n",
    "'runs':5,\n",
    "'n_epochs':50,\n",
    "'EA':True,\n",
    "'mixup':True,\n",
    "'BN':True,\n",
    "'EOG':False,\n",
    "'Z':'Z0',\n",
    "'path':data_path,\n",
    "'lmso':False,\n",
    "'session':True,\n",
    "'reg_subject':False,\n",
    "'use_wandb':False,\n",
    "'evaluation':'within',\n",
    "'comment':'baseline',\n",
    "'within':True,\n",
    "'mdl':False,\n",
    "'filter':0.5,\n",
    "'save_model':False,\n",
    "\n",
    "'load_model':False,\n",
    "'preload_reg':False,\n",
    "'online':False\n",
    "}  \n",
    "    \n",
    "    \n",
    "X,Y = load_data(dict_config)\n",
    "best_params = dict_config['params']\n",
    "best_score = train_test(best_params,dict_config, X,Y)\n"
   ]
  },
  {
   "cell_type": "markdown",
   "id": "130a8823-cb25-4aaa-b314-4a32cc86eb49",
   "metadata": {},
   "source": [
    "# Cross-Subject with Fine-Tuning on BNCI\n",
    "\n",
    "To run the following cell run the second code cell (Cross-Subject on BNCI with subject-wise reguralization first) with the argument save_model = True in its dict_config. It will provide the required pretrained model for each subject and each run."
   ]
  },
  {
   "cell_type": "code",
   "execution_count": null,
   "id": "b22653f4-f3e7-4ef0-a5cc-abc21c8ab0bc",
   "metadata": {},
   "outputs": [],
   "source": [
    "from scripts.scripts import *\n",
    "\n",
    "\n",
    "p          = [160,4,70,5]\n",
    "dict_config = { \n",
    "'model':'EEGSimpleConv',\n",
    "'params':p,\n",
    "'dataset':'BNCI',\n",
    "'runs':5,\n",
    "'n_epochs':60,\n",
    "'EA':True,\n",
    "'mixup':True,\n",
    "'BN':True,\n",
    "'EOG':False,\n",
    "'Z':'Z0',\n",
    "'path':data_path,\n",
    "'lmso':False,\n",
    "'session':True,\n",
    "'reg_subject':False,\n",
    "'use_wandb':False,\n",
    "'evaluation':'cross_finetune',\n",
    "'comment':'baseline',\n",
    "'within':True,\n",
    "'mdl':False,\n",
    "'filter':0.5,\n",
    "'save_model':True,\n",
    "'save_model_path':model_path + '/BNCI_cross_subj_ft',   \n",
    "'load_model':True,\n",
    "'load_model_path':model_path + '/BNCI_cross_subj_ft',\n",
    "'preload_reg':True,\n",
    "'online':False\n",
    "}\n",
    "\n",
    "    \n",
    "    \n",
    "    \n",
    "X,Y = load_data(dict_config)\n",
    "best_params = dict_config['params']\n",
    "best_score = train_test(best_params,dict_config, X,Y)\n"
   ]
  },
  {
   "cell_type": "code",
   "execution_count": null,
   "id": "ca7209f0",
   "metadata": {},
   "outputs": [],
   "source": []
  }
 ],
 "metadata": {
  "kernelspec": {
   "display_name": "Python 3 (ipykernel)",
   "language": "python",
   "name": "python3"
  },
  "language_info": {
   "codemirror_mode": {
    "name": "ipython",
    "version": 3
   },
   "file_extension": ".py",
   "mimetype": "text/x-python",
   "name": "python",
   "nbconvert_exporter": "python",
   "pygments_lexer": "ipython3",
   "version": "3.10.15"
  }
 },
 "nbformat": 4,
 "nbformat_minor": 5
}
