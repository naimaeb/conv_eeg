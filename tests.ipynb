{
 "cells": [
  {
   "cell_type": "code",
   "execution_count": null,
   "metadata": {},
   "outputs": [],
   "source": [
    "#first index of the resutls corresponds to the divide in the data (data batches)\n",
    "#second index of the results corresponds to the number of runs\n"
   ]
  },
  {
   "cell_type": "code",
   "execution_count": 5,
   "metadata": {},
   "outputs": [
    {
     "name": "stdout",
     "output_type": "stream",
     "text": [
      "Loaded results: dict_keys(['model_w_0_4', 'model_w_7_0', 'model_w_3_4', 'model_w_8_2', 'model_w_3_1', 'model_w_2_3', 'model_w_0_1', 'model_w_5_3', 'model_w_6_2', 'model_w_5_4', 'model_w_5_1', 'model_w_1_1', 'model_w_1_0', 'model_w_2_0', 'model_w_5_0', 'model_w_6_0', 'model_w_7_4', 'model_w_4_0', 'model_w_1_3', 'model_w_5_2', 'model_w_3_2', 'model_w_8_1', 'model_w_8_0', 'model_w_3_0', 'model_w_2_1', 'model_w_7_1', 'model_w_7_3', 'model_w_6_4', 'model_w_1_2', 'model_w_4_2', 'model_w_1_4', 'model_w_4_3', 'model_w_6_3', 'model_w_3_3', 'model_w_0_2', 'model_w_4_4', 'model_w_2_4', 'model_w_4_1', 'model_w_8_3', 'model_w_6_1', 'model_w_8_4', 'model_w_7_2', 'model_w_0_3', 'model_w_2_2', 'model_w_0_0'])\n"
     ]
    }
   ],
   "source": [
    "# Import necessary libraries\n",
    "import os\n",
    "import torch\n",
    "\n",
    "# Define the path to the results folder\n",
    "results_folder = '/home/nelosegui/BIFOLD_work/domain_generalisation/conv_eeg/results/BNCI_2'\n",
    "\n",
    "# Initialize an empty dictionary to store the results\n",
    "results_dict = {}\n",
    "\n",
    "# Iterate over all files in the results folder\n",
    "for filename in os.listdir(results_folder):\n",
    "    if filename.endswith('.pt'):\n",
    "        # Load the tensor from the .pt file\n",
    "        tensor = torch.load(os.path.join(results_folder, filename))\n",
    "        \n",
    "        # Use the filename (without extension) as the key\n",
    "        key = os.path.splitext(filename)[0]\n",
    "        \n",
    "        # Store the tensor in the dictionary\n",
    "        results_dict[key] = tensor\n",
    "\n",
    "# Display the keys of the dictionary to verify the results\n",
    "print(\"Loaded results:\", results_dict.keys())"
   ]
  },
  {
   "cell_type": "code",
   "execution_count": 12,
   "metadata": {},
   "outputs": [
    {
     "data": {
      "text/plain": [
       "dict_keys(['state', 'param_groups'])"
      ]
     },
     "execution_count": 12,
     "metadata": {},
     "output_type": "execute_result"
    }
   ],
   "source": [
    "results_dict['model_w_0_4']['optimizer_state_dict'].keys()"
   ]
  },
  {
   "cell_type": "code",
   "execution_count": null,
   "metadata": {},
   "outputs": [],
   "source": []
  }
 ],
 "metadata": {
  "kernelspec": {
   "display_name": "Python 3 (ipykernel)",
   "language": "python",
   "name": "python3"
  },
  "language_info": {
   "codemirror_mode": {
    "name": "ipython",
    "version": 3
   },
   "file_extension": ".py",
   "mimetype": "text/x-python",
   "name": "python",
   "nbconvert_exporter": "python",
   "pygments_lexer": "ipython3",
   "version": "3.10.15"
  }
 },
 "nbformat": 4,
 "nbformat_minor": 2
}
